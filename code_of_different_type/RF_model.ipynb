{
 "cells": [
  {
   "cell_type": "code",
   "execution_count": null,
   "id": "d14f5e40-bc10-47a7-a28d-dae89271ff45",
   "metadata": {},
   "outputs": [],
   "source": [
    "import numpy as np\n",
    "from numpy import arange\n",
    "from matplotlib import pyplot\n",
    "import pandas as pd\n",
    "from pandas import  set_option\n",
    "from pandas.plotting import scatter_matrix\n",
    "from sklearn.preprocessing import StandardScaler\n",
    "from sklearn.model_selection import train_test_split\n",
    "from sklearn.model_selection import KFold\n",
    "from sklearn.model_selection import cross_val_score\n",
    "from sklearn.model_selection import GridSearchCV\n",
    "from sklearn.pipeline import Pipeline\n",
    "from sklearn.ensemble import RandomForestRegressor\n",
    "from sklearn.model_selection import RandomizedSearchCV"
   ]
  },
  {
   "cell_type": "code",
   "execution_count": null,
   "id": "d502b4db-fb5a-40da-ba39-988c0a2768e7",
   "metadata": {},
   "outputs": [],
   "source": [
    "# import data\n",
    "dataset = pd.read_csv(\"data.csv\", index_col=0)\n",
    "dataset.head()"
   ]
  },
  {
   "cell_type": "code",
   "execution_count": null,
   "id": "667c4852-0044-4c86-8943-32697520ce03",
   "metadata": {},
   "outputs": [],
   "source": [
    "# Partition data set\n",
    "Y = dataset.Score\n",
    "X = dataset.drop('Score', axis = 1)\n",
    "X_train, X_test, Y_train, Y_test = train_test_split(X, Y,test_size=0.3, random_state=7)"
   ]
  },
  {
   "cell_type": "code",
   "execution_count": null,
   "id": "d0a28c85-200d-423f-8e1a-71568cb45123",
   "metadata": {},
   "outputs": [],
   "source": [
    "# Search optimal hyperparameter\n",
    "from pprint import pprint\n",
    "n_estimators_range=[int(x) for x in np.linspace(start=50,stop=3000,num=60)]\n",
    "max_features_range=['auto','sqrt']\n",
    "max_depth_range=[int(x) for x in np.linspace(10,500,num=50)]\n",
    "max_depth_range.append(None)\n",
    "min_samples_split_range=[2,5,10]\n",
    "min_samples_leaf_range=[1,2,4,8]\n",
    "bootstrap_range=[True,False]\n",
    "\n",
    "random_forest_hp_range={'n_estimators':n_estimators_range,\n",
    "                        'max_features':max_features_range,\n",
    "                        'max_depth':max_depth_range,\n",
    "                        'min_samples_split':min_samples_split_range,\n",
    "                        'min_samples_leaf':min_samples_leaf_range\n",
    "                        # 'bootstrap':bootstrap_range\n",
    "                        }\n",
    "pprint(random_forest_hp_range)"
   ]
  },
  {
   "cell_type": "code",
   "execution_count": null,
   "id": "1bcb2a6f-440b-48a7-8d9f-ae80be95513b",
   "metadata": {},
   "outputs": [],
   "source": [
    "random_forest_model_test_base=RandomForestRegressor()\n",
    "random_forest_model_test_random=RandomizedSearchCV(estimator=random_forest_model_test_base,\n",
    "                                                   param_distributions=random_forest_hp_range,\n",
    "                                                   n_iter=200,\n",
    "                                                   n_jobs=-1,\n",
    "                                                   cv=3,\n",
    "                                                   verbose=1,\n",
    "                                                   random_state=5\n",
    "                                                   )\n",
    "random_forest_model_test_random.fit(X_train,Y_train)\n",
    "\n",
    "best_hp_now=random_forest_model_test_random.best_params_\n",
    "pprint(best_hp_now)"
   ]
  },
  {
   "cell_type": "code",
   "execution_count": null,
   "id": "c1ad7f7a-767a-48cf-a6e0-4a4f4ee6cc47",
   "metadata": {},
   "outputs": [],
   "source": [
    "# Grid Search\n",
    "random_forest_hp_range_2={'n_estimators':[60,100,200],\n",
    "                          'max_features':(10,11),\n",
    "                          'max_depth':[300,400,450],\n",
    "                          'min_samples_split':[2,3],\n",
    "                          'min_samples_leaf':[1,2]\n",
    "                          #'bootstrap':bootstrap_range\n",
    "                          }\n",
    "random_forest_model_test_2_base=RandomForestRegressor()\n",
    "random_forest_model_test_2_random=GridSearchCV(estimator=random_forest_model_test_2_base,\n",
    "                                               param_grid=random_forest_hp_range_2,\n",
    "                                               cv=3,\n",
    "                                               verbose=1,\n",
    "                                               n_jobs=-1)\n",
    "random_forest_model_test_2_random.fit(X_train,Y_train)\n",
    "\n",
    "best_hp_now_2=random_forest_model_test_2_random.best_params_\n",
    "pprint(best_hp_now_2)"
   ]
  },
  {
   "cell_type": "code",
   "execution_count": null,
   "id": "550865d7-de6e-44fe-b041-93a5af967072",
   "metadata": {},
   "outputs": [],
   "source": [
    "from sklearn.metrics import mean_squared_error, r2_score\n",
    "from sklearn.metrics import mean_absolute_error"
   ]
  },
  {
   "cell_type": "code",
   "execution_count": null,
   "id": "8c1c216b-a02f-4577-bed6-03e5cbf67b42",
   "metadata": {},
   "outputs": [],
   "source": [
    "# Evaluation Algorithm-Evaluation Criteria\n",
    "num_folds = 5\n",
    "scoring1 = 'neg_mean_squared_error'\n",
    "scoring2 = 'r2'\n",
    "scoring3 = 'neg_mean_absolute_error'"
   ]
  },
  {
   "cell_type": "code",
   "execution_count": null,
   "id": "ea1eaeab-4146-47c1-8841-0d0ba2932aa7",
   "metadata": {},
   "outputs": [],
   "source": [
    "# \n",
    "scaler = StandardScaler().fit(X_train)\n",
    "rescaledX = scaler.transform(X_train)\n",
    "rf= RandomForestRegressor(max_depth = 300, max_features = 11, min_samples_leaf = 1, \n",
    "                          min_samples_split = 2, n_estimators = 60)\n",
    "rf.fit(rescaledX, Y_train)\n",
    "score = cross_val_score(rf, rescaledX, Y_train, cv=5, scoring=scoring2)\n",
    "print(score.mean(), \"+/-\", score.std())"
   ]
  },
  {
   "cell_type": "code",
   "execution_count": null,
   "id": "d662860b-88a7-4c88-b997-e069f663cc1b",
   "metadata": {},
   "outputs": [],
   "source": [
    "# Performance of the model on the test set training set\n",
    "scaler = StandardScaler().fit(X_train)\n",
    "rescaledX = scaler.transform(X_train)\n",
    "rf= RandomForestRegressor(max_depth = 300, max_features = 11, min_samples_leaf = 1, \n",
    "                          min_samples_split = 2, n_estimators = 60)\n",
    "rf.fit(rescaledX, Y_train)\n",
    "\n",
    "# Evaluate the training set\n",
    "rescaledX_train = scaler.transform(X_train)\n",
    "pre_train = rf.predict(rescaledX_train)\n",
    "print('Training_data，MSE：%s' % (mean_squared_error(Y_train, pre_train)))\n",
    "print('Training_data，MAE：%s' % (mean_absolute_error(Y_train, pre_train)))\n",
    "print('Training_data，R2：%s' %  (r2_score(Y_train, pre_train)))\n",
    "\n",
    "# Evaluate the testing set\n",
    "rescaledX_test = scaler.transform(X_test)\n",
    "pre_test = rf.predict(rescaledX_test)\n",
    "print('Testing_data，MSE：%s' % (mean_squared_error(Y_test, pre_test)))\n",
    "print('Testing_data，MAE：%s' % (mean_absolute_error(Y_test, pre_test)))\n",
    "print('Testing_data，R2：%s' % (r2_score(Y_test, pre_test)))"
   ]
  },
  {
   "cell_type": "code",
   "execution_count": null,
   "id": "a446776f-cbee-45a8-b821-8d33ae48608d",
   "metadata": {},
   "outputs": [],
   "source": [
    "#Data saving\n",
    "#training set \n",
    "trainSt = pd.DataFrame(data = Y_train)\n",
    "trainSt.to_csv('/Users/fuyang/Desktop/RF_train.csv')\n",
    "#training set \n",
    "pretrainSt = pd.DataFrame(data = pre_train)\n",
    "pretrainSt.to_csv('/Users/fuyang/Desktop/RF_predictions_train.csv')\n",
    "\n",
    "#testing set \n",
    "testSt = pd.DataFrame(data = Y_test)\n",
    "testSt.to_csv('/Users/fuyang/Desktop/RF_test.csv')\n",
    "#testing set\n",
    "pretestSt = pd.DataFrame(data = pre_test)\n",
    "pretestSt.to_csv('/Users/fuyang/Desktop/RF_predictions_test.csv')"
   ]
  }
 ],
 "metadata": {
  "kernelspec": {
   "display_name": "Python 3 (ipykernel)",
   "language": "python",
   "name": "python3"
  },
  "language_info": {
   "codemirror_mode": {
    "name": "ipython",
    "version": 3
   },
   "file_extension": ".py",
   "mimetype": "text/x-python",
   "name": "python",
   "nbconvert_exporter": "python",
   "pygments_lexer": "ipython3",
   "version": "3.11.8"
  }
 },
 "nbformat": 4,
 "nbformat_minor": 5
}
