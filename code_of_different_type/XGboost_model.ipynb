{
 "cells": [
  {
   "cell_type": "code",
   "execution_count": null,
   "id": "0951900f-88e4-4996-a22f-15b3673218cf",
   "metadata": {},
   "outputs": [],
   "source": [
    "#\n",
    "from xgboost import XGBRegressor as XGBR\n",
    "from sklearn.model_selection import KFold, cross_val_score, train_test_split\n",
    "import matplotlib.pyplot as plt\n",
    "from sklearn.metrics import mean_squared_error as MSE\n",
    "from sklearn.model_selection import GridSearchCV\n",
    "from sklearn.preprocessing import StandardScaler\n",
    "import pandas as pd\n",
    "import numpy as np\n",
    "import pickle\n",
    "\n",
    "# evaluation index\n",
    "from sklearn.metrics import mean_squared_error, r2_score\n",
    "from sklearn.metrics import mean_absolute_error"
   ]
  },
  {
   "cell_type": "code",
   "execution_count": null,
   "id": "44d11fec-60ea-4c32-b5cc-44fc927fb5d0",
   "metadata": {},
   "outputs": [],
   "source": [
    "# Import dataset\n",
    "dataset = pd.read_csv('/Users/fuyang/Desktop/chapter2_all_data.csv', index_col=0)\n",
    "dataset.head()"
   ]
  },
  {
   "cell_type": "code",
   "execution_count": null,
   "id": "8602b992-8c33-44bc-9daa-089e640c1d62",
   "metadata": {},
   "outputs": [],
   "source": [
    "# Partition data set\n",
    "Y = dataset.Score\n",
    "X = dataset.drop('Score', axis = 1)\n",
    "X_train, X_test, Y_train, Y_test = train_test_split(X, Y,test_size=0.3, random_state=7)"
   ]
  },
  {
   "cell_type": "code",
   "execution_count": null,
   "id": "d50c0cb2-8043-4e58-a23e-93246eda439a",
   "metadata": {},
   "outputs": [],
   "source": [
    "# Maximum depth of tree and minimum leaf node sample weight\n",
    "param_test1 = {'max_depth':range(3,10,2),'min_child_weight':range(2,7,2)}\n",
    " \n",
    "gsearch1 = GridSearchCV(estimator =XGBR( learning_rate =0.1, n_estimators=140, max_depth=5,\n",
    "                                         min_child_weight=1, gamma=0, subsample=0.8, colsample_bytree=0.8, objective= 'reg:linear',\n",
    "                                         nthread=4, scale_pos_weight=1, seed=27),\n",
    "                                         param_grid = param_test1, scoring='r2',n_jobs=4, cv=5)\n",
    "gsearch1.fit(X_train,Y_train)\n",
    "gsearch1.best_params_, gsearch1.best_score_"
   ]
  },
  {
   "cell_type": "code",
   "execution_count": null,
   "id": "e7114c54-f99b-4ec7-8f1b-16c3b9272ac0",
   "metadata": {},
   "outputs": [],
   "source": [
    "# n_estimators\n",
    "param_test2 = {'n_estimators': [10, 20, 50, 100, 150, 200, 250, 300, 400, 500]}\n",
    "\n",
    "gsearch2 = GridSearchCV(estimator =XGBR( learning_rate =0.1, n_estimators=140, max_depth=5,\n",
    "                                         min_child_weight=6, gamma=0, subsample=0.8, colsample_bytree=0.8, objective= 'reg:linear',\n",
    "                                         nthread=4, scale_pos_weight=1, seed=27),\n",
    "                                         param_grid = param_test2, scoring='r2',n_jobs=4, cv=5)\n",
    "gsearch2.fit(X_train,Y_train)\n",
    "gsearch2.best_params_, gsearch2.best_score_"
   ]
  },
  {
   "cell_type": "code",
   "execution_count": null,
   "id": "0f2e8597-5577-46b7-b0f3-d22f131a00fa",
   "metadata": {},
   "outputs": [],
   "source": [
    "param_test3 = {'gamma':[i/100.0 for i in range(0,100)]}\n",
    "\n",
    "gsearch3 = GridSearchCV(estimator =XGBR( learning_rate =0.1, n_estimators=50, max_depth=5,\n",
    "                                         min_child_weight=6, gamma=0, subsample=0.8, colsample_bytree=0.8, objective= 'reg:linear',\n",
    "                                         nthread=4, scale_pos_weight=1, seed=27),\n",
    "                                         param_grid = param_test3, scoring='r2',n_jobs=4, cv=5)\n",
    "gsearch3.fit(X_train,Y_train)\n",
    "gsearch3.best_params_, gsearch3.best_score_"
   ]
  },
  {
   "cell_type": "code",
   "execution_count": null,
   "id": "e18384b9-2813-47a3-a6f6-062cbf3c36f7",
   "metadata": {},
   "outputs": [],
   "source": [
    "param_test4 = {'subsample':[i/10.0 for i in range(1,10)],'colsample_bytree':[i/10.0 for i in range(1,10)]}\n",
    "\n",
    "gsearch4 = GridSearchCV(estimator =XGBR( learning_rate =0.1, n_estimators=50, max_depth=5,\n",
    "                                         min_child_weight=6, gamma=0.92, subsample=0.8, colsample_bytree=0.8, objective= 'reg:linear',\n",
    "                                         nthread=4, scale_pos_weight=1, seed=27),\n",
    "                                         param_grid = param_test4, scoring='r2',n_jobs=4, cv=5)\n",
    "gsearch4.fit(X_train,Y_train)\n",
    "gsearch4.best_params_, gsearch4.best_score_"
   ]
  },
  {
   "cell_type": "code",
   "execution_count": null,
   "id": "bc101d06-a468-43d8-90c7-bccbc6ab090a",
   "metadata": {},
   "outputs": [],
   "source": [
    "# gamma \n",
    "param_test5 = {'reg_alpha':[0, 0.001, 0.005, 0.01, 0.05]}\n",
    "\n",
    "gsearch5 = GridSearchCV(estimator =XGBR( learning_rate =0.1, n_estimators=50, max_depth=5,\n",
    "                                         min_child_weight=6, gamma=0.92, subsample=0.8, colsample_bytree=0.8, \n",
    "                                         reg_alpha=0, objective= 'reg:linear',\n",
    "                                         nthread=4, scale_pos_weight=1, seed=27),\n",
    "                                         param_grid = param_test5, scoring='r2',n_jobs=4, cv=5)\n",
    "gsearch5.fit(X_train,Y_train)\n",
    "gsearch5.best_params_, gsearch5.best_score_"
   ]
  },
  {
   "cell_type": "code",
   "execution_count": null,
   "id": "dea3da9f-306b-4f4c-abad-e6d86848893c",
   "metadata": {},
   "outputs": [],
   "source": [
    "#learning_rate\n",
    "param_test6 = {'learning_rate':[0, 0.001, 0.005, 0.01, 0.05,0.1,0.5,1]}\n",
    "\n",
    "gsearch6 = GridSearchCV(estimator =XGBR( learning_rate =0.1, n_estimators=50, max_depth=5,\n",
    "                                         min_child_weight=6, gamma=0.92, subsample=0.8, colsample_bytree=0.8, \n",
    "                                         reg_alpha=0, objective= 'reg:linear',\n",
    "                                         nthread=4, scale_pos_weight=1, seed=27),\n",
    "                                         param_grid = param_test6, scoring='r2',n_jobs=4, cv=5)\n",
    "gsearch6.fit(X_train,Y_train)\n",
    "gsearch6.best_params_, gsearch6.best_score_"
   ]
  },
  {
   "cell_type": "code",
   "execution_count": null,
   "id": "7fab16e7-8bbf-4dee-9cb2-ad583cda7b96",
   "metadata": {},
   "outputs": [],
   "source": [
    "# \n",
    "scaler = StandardScaler().fit(X_train)\n",
    "rescaledX = scaler.transform(X_train)\n",
    "\n",
    "model = XGBR(learning_rate =0.1, n_estimators=50, max_depth=5,\n",
    "                                         min_child_weight=6, gamma=0.92, subsample=0.8, colsample_bytree=0.8, \n",
    "                                         reg_alpha=0.1)\n",
    "model.fit(rescaledX, Y_train)\n",
    "score = cross_val_score(model, rescaledX, Y_train, cv=5, scoring=scoring2)\n",
    "print(score.mean(), \"+/-\", score.std())"
   ]
  },
  {
   "cell_type": "code",
   "execution_count": null,
   "id": "fb330ebb-8f9e-4b90-a90d-55213b64f133",
   "metadata": {},
   "outputs": [],
   "source": [
    "# Performance of the model on the XGBoost test set and training set\n",
    "scaler = StandardScaler().fit(X_train)\n",
    "rescaledX = scaler.transform(X_train)\n",
    "\n",
    "model = XGBR(learning_rate =0.1, n_estimators=50, max_depth=5,\n",
    "                                         min_child_weight=6, gamma=0.92, subsample=0.8, colsample_bytree=0.8, \n",
    "                                         reg_alpha=0.1)\n",
    "model.fit(rescaledX, Y_train)\n",
    "\n",
    "# Evaluate the training set\n",
    "rescaledX_train = scaler.transform(X_train)\n",
    "pre_train = model.predict(rescaledX_train)\n",
    "print('Training_data，MSE：%s' % (mean_squared_error(Y_train, pre_train)))\n",
    "print('Training_data，MAE：%s' % (mean_absolute_error(Y_train, pre_train)))\n",
    "print('Training_data，R2：%s' %  (r2_score(Y_train, pre_train)))\n",
    "\n",
    "# Evaluation test set\n",
    "rescaledX_test = scaler.transform(X_test)\n",
    "pre_test = model.predict(rescaledX_test)\n",
    "print('Testing_data，MSE：%s' % (mean_squared_error(Y_test, pre_test)))\n",
    "print('Testing_data，MAE：%s' % (mean_absolute_error(Y_test, pre_test)))\n",
    "print('Testing_data，R2：%s' % (r2_score(Y_test, pre_test)))"
   ]
  }
 ],
 "metadata": {
  "kernelspec": {
   "display_name": "Python 3 (ipykernel)",
   "language": "python",
   "name": "python3"
  },
  "language_info": {
   "codemirror_mode": {
    "name": "ipython",
    "version": 3
   },
   "file_extension": ".py",
   "mimetype": "text/x-python",
   "name": "python",
   "nbconvert_exporter": "python",
   "pygments_lexer": "ipython3",
   "version": "3.11.8"
  }
 },
 "nbformat": 4,
 "nbformat_minor": 5
}
