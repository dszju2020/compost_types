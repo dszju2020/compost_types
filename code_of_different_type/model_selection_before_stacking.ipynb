{
 "cells": [
  {
   "cell_type": "code",
   "execution_count": null,
   "id": "9fc5c06e-f8cd-47f2-a0d6-28419c248546",
   "metadata": {},
   "outputs": [],
   "source": [
    "# \n",
    "import numpy as np\n",
    "from numpy import arange\n",
    "from matplotlib import pyplot\n",
    "import pandas as pd\n",
    "from pandas import  set_option\n",
    "from pandas.plotting import scatter_matrix\n",
    "from sklearn.preprocessing import StandardScaler\n",
    "from sklearn.model_selection import train_test_split\n",
    "from sklearn.model_selection import KFold\n",
    "from sklearn.model_selection import cross_val_score\n",
    "from sklearn.model_selection import GridSearchCV\n",
    "\n",
    "#\n",
    "from sklearn.linear_model import LinearRegression\n",
    "from sklearn.neighbors import KNeighborsRegressor\n",
    "from sklearn.svm import SVR\n",
    "from sklearn.tree import DecisionTreeRegressor\n",
    "from sklearn.neural_network import MLPRegressor\n",
    "from sklearn.ensemble import RandomForestRegressor\n",
    "\n",
    "from sklearn.pipeline import Pipeline\n",
    "\n",
    "from sklearn.metrics import mean_squared_error, r2_score\n",
    "from sklearn.metrics import mean_absolute_error"
   ]
  },
  {
   "cell_type": "code",
   "execution_count": null,
   "id": "8445b469-f72d-4ef6-8601-f899b23439ab",
   "metadata": {},
   "outputs": [],
   "source": [
    "#\n",
    "dataset = pd.read_csv('/Users/fuyang/Desktop/chapter2_all_data.csv', index_col=0)\n",
    "dataset.head()"
   ]
  },
  {
   "cell_type": "code",
   "execution_count": null,
   "id": "524353e5-c92f-4516-ae04-02cf8f6ebeec",
   "metadata": {},
   "outputs": [],
   "source": [
    "#\n",
    "Y = dataset.Score\n",
    "X = dataset.drop('Score', axis = 1)\n",
    "X_train, X_test, Y_train, Y_test = train_test_split(X, Y,test_size=0.3, random_state=7)"
   ]
  },
  {
   "cell_type": "code",
   "execution_count": null,
   "id": "b0859d54-18aa-485f-9f2e-7136eb3c8d6d",
   "metadata": {},
   "outputs": [],
   "source": [
    "# \n",
    "num_folds = 5\n",
    "scoring1 = 'neg_mean_squared_error'\n",
    "scoring2 = 'r2'\n",
    "scoring1 = 'mean_absolute_error'"
   ]
  },
  {
   "cell_type": "code",
   "execution_count": null,
   "id": "35c9d596-adf1-41a7-b0a3-e4efeeb60fdc",
   "metadata": {},
   "outputs": [],
   "source": [
    "# \n",
    "pipelines = {}\n",
    "pipelines['ScalerLR'] = Pipeline([('Scaler', StandardScaler()), ('LR', LinearRegression())])\n",
    "pipelines['ScalerKNN'] = Pipeline([('Scaler', StandardScaler()), ('KNN', KNeighborsRegressor())])\n",
    "pipelines['ScalerDT'] = Pipeline([('Scaler', StandardScaler()), ('CART', DecisionTreeRegressor())])\n",
    "pipelines['ScalerSVM'] = Pipeline([('Scaler', StandardScaler()), ('SVM', SVR())])\n",
    "pipelines['ScalerRF'] = Pipeline([('Scaler', StandardScaler()), ('RF', RandomForestRegressor())])\n",
    "pipelines['ScalerDL'] = Pipeline([('Scaler', StandardScaler()), ('DL', MLPRegressor())])"
   ]
  },
  {
   "cell_type": "code",
   "execution_count": null,
   "id": "a6db30be-d106-428c-9dff-911c2fffc259",
   "metadata": {},
   "outputs": [],
   "source": [
    "results = []\n",
    "for key in pipelines:\n",
    "    kfold = KFold(n_splits=5, shuffle=True)\n",
    "    cv_result = cross_val_score(pipelines[key], X_train, Y_train, cv=kfold, scoring=scoring2)\n",
    "    results.append(cv_result)\n",
    "    print('%s: %f (%f)' % (key, cv_result.mean(), cv_result.std()))"
   ]
  },
  {
   "cell_type": "code",
   "execution_count": null,
   "id": "1af937ed-c0a9-4c1e-8459-9f13c79520ea",
   "metadata": {},
   "outputs": [],
   "source": [
    "# improved algorithm - KNN\n",
    "scaler = StandardScaler().fit(X_train)\n",
    "rescaledX = scaler.transform(X_train)\n",
    "param_grid = {'n_neighbors': [1, 3, 5, 7, 9, 11, 13, 15, 17, 19, 21]}\n",
    "model1 = KNeighborsRegressor()\n",
    "kfold = KFold(n_splits=num_folds, shuffle=True)\n",
    "grid = GridSearchCV(estimator=model1, param_grid=param_grid, scoring=scoring2, cv=kfold)\n",
    "grid_result = grid.fit(X=rescaledX, y=Y_train)\n",
    "print('best：%s select%s' % (grid_result.best_score_, grid_result.best_params_))\n",
    "cv_results = zip(grid_result.cv_results_['mean_test_score'],\n",
    "                 grid_result.cv_results_['std_test_score'],\n",
    "                 grid_result.cv_results_['params'])\n",
    "for mean, std, param in cv_results:\n",
    "    print('%f (%f) with %r' % (mean, std, param))"
   ]
  },
  {
   "cell_type": "code",
   "execution_count": null,
   "id": "b0212daa-3277-40e0-ab09-52dd754b0c60",
   "metadata": {},
   "outputs": [],
   "source": [
    "# DT\n",
    "scaler = StandardScaler().fit(X_train)\n",
    "rescaledX = scaler.transform(X_train)\n",
    "param_grid = {'min_samples_split':range(10, 200, 20), 'min_samples_leaf':range(1, 110, 10),\n",
    "              'max_depth':range(3, 30, 2)}\n",
    "model2 = DecisionTreeRegressor()\n",
    "kfold = KFold(n_splits=num_folds, shuffle=True)\n",
    "grid = GridSearchCV(estimator=model2, param_grid=param_grid, scoring=scoring2, cv=kfold)\n",
    "grid_result = grid.fit(X=rescaledX, y=Y_train)\n",
    "print('best：%s select%s' % (grid_result.best_score_, grid_result.best_params_))\n",
    "cv_results = zip(grid_result.cv_results_['mean_test_score'],\n",
    "                 grid_result.cv_results_['std_test_score'],\n",
    "                 grid_result.cv_results_['params'])\n",
    "for mean, std, param in cv_results:\n",
    "    print('%f (%f) with %r' % (mean, std, param))"
   ]
  },
  {
   "cell_type": "code",
   "execution_count": null,
   "id": "2355e841-101d-4e86-be32-b9593554b70a",
   "metadata": {},
   "outputs": [],
   "source": [
    "# SVM\n",
    "scaler = StandardScaler().fit(X_train)\n",
    "rescaledX = scaler.transform(X_train)\n",
    "param_grid = {'kernel':['linear','poly','rbf','sigmoid']}\n",
    "model3 = SVR()\n",
    "kfold = KFold(n_splits=num_folds, shuffle=True)\n",
    "grid = GridSearchCV(estimator=model3, param_grid=param_grid, scoring=scoring2, cv=kfold)\n",
    "grid_result = grid.fit(X=rescaledX, y=Y_train)\n",
    "print('best：%s select%s' % (grid_result.best_score_, grid_result.best_params_))\n",
    "cv_results = zip(grid_result.cv_results_['mean_test_score'],\n",
    "                 grid_result.cv_results_['std_test_score'],\n",
    "                 grid_result.cv_results_['params'])\n",
    "for mean, std, param in cv_results:\n",
    "    print('%f (%f) with %r' % (mean, std, param))"
   ]
  },
  {
   "cell_type": "code",
   "execution_count": null,
   "id": "9739557d-1c7d-469b-afe2-03955047b8a3",
   "metadata": {},
   "outputs": [],
   "source": [
    "# RF\n",
    "scaler = StandardScaler().fit(X_train)\n",
    "rescaledX = scaler.transform(X_train)\n",
    "param_grid = {'n_estimators': [10, 50, 100, 200, 300, 400, 500, 600, 700, 800, 900]}\n",
    "model4 = RandomForestRegressor()\n",
    "kfold = KFold(n_splits=num_folds, shuffle=True)\n",
    "grid = GridSearchCV(estimator=model4, param_grid=param_grid, scoring=scoring2, cv=kfold)\n",
    "grid_result = grid.fit(X=rescaledX, y=Y_train)\n",
    "cv_results = zip(grid_result.cv_results_['mean_test_score'],\n",
    "                 grid_result.cv_results_['std_test_score'],\n",
    "                 grid_result.cv_results_['params'])\n",
    "for mean, std, param in cv_results:\n",
    "    print('%f (%f) with %r' % (mean, std, param))"
   ]
  }
 ],
 "metadata": {
  "kernelspec": {
   "display_name": "Python 3 (ipykernel)",
   "language": "python",
   "name": "python3"
  },
  "language_info": {
   "codemirror_mode": {
    "name": "ipython",
    "version": 3
   },
   "file_extension": ".py",
   "mimetype": "text/x-python",
   "name": "python",
   "nbconvert_exporter": "python",
   "pygments_lexer": "ipython3",
   "version": "3.11.8"
  }
 },
 "nbformat": 4,
 "nbformat_minor": 5
}
