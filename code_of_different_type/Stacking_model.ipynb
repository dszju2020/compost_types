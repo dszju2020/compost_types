{
 "cells": [
  {
   "cell_type": "code",
   "execution_count": null,
   "id": "afa4d17b-a59a-47c6-a8f8-67eb86e017f8",
   "metadata": {},
   "outputs": [],
   "source": [
    "# \n",
    "import numpy as np\n",
    "from numpy import arange\n",
    "from matplotlib import pyplot\n",
    "import pandas as pd\n",
    "from pandas import  set_option\n",
    "from pandas.plotting import scatter_matrix\n",
    "from sklearn.preprocessing import StandardScaler\n",
    "from sklearn.model_selection import train_test_split\n",
    "from sklearn.model_selection import KFold\n",
    "from sklearn.model_selection import cross_val_score\n",
    "from sklearn.model_selection import GridSearchCV\n",
    "\n",
    "#\n",
    "from sklearn.linear_model import LinearRegression\n",
    "from sklearn.neighbors import KNeighborsRegressor\n",
    "from sklearn.svm import SVR\n",
    "from sklearn.tree import DecisionTreeRegressor\n",
    "from sklearn.neural_network import MLPRegressor\n",
    "from sklearn.ensemble import RandomForestRegressor\n",
    "\n",
    "#\n",
    "from mlxtend.regressor import StackingRegressor\n",
    "from mlxtend.regressor import StackingCVRegressor\n",
    "\n",
    "from sklearn.pipeline import Pipeline\n",
    "\n",
    "from sklearn.metrics import mean_squared_error, r2_score\n",
    "from sklearn.metrics import mean_absolute_error"
   ]
  },
  {
   "cell_type": "code",
   "execution_count": null,
   "id": "87395d0e-6460-48ae-af2b-efa1632f9bbb",
   "metadata": {},
   "outputs": [],
   "source": [
    "#\n",
    "dataset = pd.read_csv(\"paramaters.csv\", index_col=0)\n",
    "dataset.head()"
   ]
  },
  {
   "cell_type": "code",
   "execution_count": null,
   "id": "2cfe85f6-496e-42c2-962e-6291b9ed5f50",
   "metadata": {},
   "outputs": [],
   "source": [
    "#\n",
    "Y = dataset.Score\n",
    "X = dataset.drop('Score', axis = 1)\n",
    "X_train, X_test, Y_train, Y_test = train_test_split(X, Y,test_size=0.3, random_state=7)"
   ]
  },
  {
   "cell_type": "code",
   "execution_count": null,
   "id": "2e158000-c5c7-4126-ab9a-d8469b29bdf8",
   "metadata": {},
   "outputs": [],
   "source": [
    "# \n",
    "scoring1 = 'neg_mean_squared_error'\n",
    "scoring2 = 'r2'\n",
    "scoring1 = 'mean_absolute_error'"
   ]
  },
  {
   "cell_type": "code",
   "execution_count": null,
   "id": "01f2478e-9c0a-4096-bac5-38eabe184013",
   "metadata": {},
   "outputs": [],
   "source": [
    "#\n",
    "lr = LinearRegression()\n",
    "knn = KNeighborsRegressor(n_neighbors = 3)\n",
    "dt = DecisionTreeRegressor(max_depth= 19, min_samples_leaf= 11, min_samples_split= 10)\n",
    "rf = RandomForestRegressor(n_estimators = 700)"
   ]
  },
  {
   "cell_type": "code",
   "execution_count": null,
   "id": "644dfd71-42b4-4421-b8f7-e007d014b323",
   "metadata": {},
   "outputs": [],
   "source": [
    "#\n",
    "models = [dt, knn, rf]\n",
    "sclf = StackingCVRegressor(regressors=models, meta_regressor=lr)"
   ]
  },
  {
   "cell_type": "code",
   "execution_count": null,
   "id": "df32d7e9-7770-4150-a0f4-62d0fecbe8bc",
   "metadata": {},
   "outputs": [],
   "source": [
    "# \n",
    "print(\"stacking model\")\n",
    "scaler = StandardScaler().fit(X_train)\n",
    "rescaledX = scaler.transform(X_train)\n",
    "sclf.fit(rescaledX, Y_train)\n",
    "score = cross_val_score(sclf, rescaledX, Y_train, cv=5, scoring=scoring2)\n",
    "print(score.mean(), \"+/-\", score.std())"
   ]
  },
  {
   "cell_type": "code",
   "execution_count": null,
   "id": "f4eb2fdb-d2e7-4965-9f39-e926b0c5f1b0",
   "metadata": {},
   "outputs": [],
   "source": [
    "# Performance of the model on the Stacking Test Set Training Set\n",
    "scaler = StandardScaler().fit(X_train)\n",
    "rescaledX = scaler.transform(X_train)\n",
    "sclf = StackingCVRegressor(regressors=models, meta_regressor=lr)\n",
    "sclf.fit(rescaledX, Y_train)\n",
    "\n",
    "# Evaluate the training set\n",
    "rescaledX_train = scaler.transform(X_train)\n",
    "pre_train = sclf.predict(rescaledX_train)\n",
    "print('Training_data，MSE：%s' % (mean_squared_error(Y_train, pre_train)))\n",
    "print('Training_data，MAE：%s' % (mean_absolute_error(Y_train, pre_train)))\n",
    "print('Training_data，R2：%s' %  (r2_score(Y_train, pre_train)))\n",
    "\n",
    "# Evaluation test set\n",
    "rescaledX_test = scaler.transform(X_test)\n",
    "pre_test = sclf.predict(rescaledX_test)\n",
    "print('Testing_data，MSE：%s' % (mean_squared_error(Y_test, pre_test)))\n",
    "print('Testing_data，MAE：%s' % (mean_absolute_error(Y_test, pre_test)))\n",
    "print('Testing_data，R2：%s' % (r2_score(Y_test, pre_test)))"
   ]
  },
  {
   "cell_type": "code",
   "execution_count": null,
   "id": "90d7864e-0f43-4607-addf-c018d9aefd34",
   "metadata": {},
   "outputs": [],
   "source": []
  }
 ],
 "metadata": {
  "kernelspec": {
   "display_name": "Python 3 (ipykernel)",
   "language": "python",
   "name": "python3"
  },
  "language_info": {
   "codemirror_mode": {
    "name": "ipython",
    "version": 3
   },
   "file_extension": ".py",
   "mimetype": "text/x-python",
   "name": "python",
   "nbconvert_exporter": "python",
   "pygments_lexer": "ipython3",
   "version": "3.11.8"
  }
 },
 "nbformat": 4,
 "nbformat_minor": 5
}
